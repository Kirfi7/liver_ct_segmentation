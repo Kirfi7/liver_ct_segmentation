{
 "cells": [
  {
   "cell_type": "code",
   "execution_count": 1,
   "id": "f6b30747",
   "metadata": {},
   "outputs": [
    {
     "name": "stdout",
     "output_type": "stream",
     "text": [
      "Collecting ultralytics\n",
      "  Obtaining dependency information for ultralytics from https://files.pythonhosted.org/packages/fc/49/253e8d31a02064d0ff14a8e335d43ea6d60e89bc877c8bdc1fa8f76b5daa/ultralytics-8.3.28-py3-none-any.whl.metadata\n",
      "  Downloading ultralytics-8.3.28-py3-none-any.whl.metadata (35 kB)\n",
      "Requirement already satisfied: numpy>=1.23.0 in /Users/kirfi/anaconda3/lib/python3.11/site-packages (from ultralytics) (1.25.2)\n",
      "Requirement already satisfied: matplotlib>=3.3.0 in /Users/kirfi/anaconda3/lib/python3.11/site-packages (from ultralytics) (3.8.1)\n",
      "Requirement already satisfied: opencv-python>=4.6.0 in /Users/kirfi/anaconda3/lib/python3.11/site-packages (from ultralytics) (4.10.0.84)\n",
      "Requirement already satisfied: pillow>=7.1.2 in /Users/kirfi/anaconda3/lib/python3.11/site-packages (from ultralytics) (9.4.0)\n",
      "Requirement already satisfied: pyyaml>=5.3.1 in /Users/kirfi/anaconda3/lib/python3.11/site-packages (from ultralytics) (6.0)\n",
      "Requirement already satisfied: requests>=2.23.0 in /Users/kirfi/anaconda3/lib/python3.11/site-packages (from ultralytics) (2.31.0)\n",
      "Requirement already satisfied: scipy>=1.4.1 in /Users/kirfi/anaconda3/lib/python3.11/site-packages (from ultralytics) (1.11.4)\n",
      "Requirement already satisfied: torch>=1.8.0 in /Users/kirfi/anaconda3/lib/python3.11/site-packages (from ultralytics) (2.1.1)\n",
      "Requirement already satisfied: torchvision>=0.9.0 in /Users/kirfi/anaconda3/lib/python3.11/site-packages (from ultralytics) (0.16.1)\n",
      "Requirement already satisfied: tqdm>=4.64.0 in /Users/kirfi/anaconda3/lib/python3.11/site-packages (from ultralytics) (4.66.1)\n",
      "Requirement already satisfied: psutil in /Users/kirfi/anaconda3/lib/python3.11/site-packages (from ultralytics) (5.9.0)\n",
      "Requirement already satisfied: py-cpuinfo in /Users/kirfi/anaconda3/lib/python3.11/site-packages (from ultralytics) (8.0.0)\n",
      "Requirement already satisfied: pandas>=1.1.4 in /Users/kirfi/anaconda3/lib/python3.11/site-packages (from ultralytics) (2.2.3)\n",
      "Requirement already satisfied: seaborn>=0.11.0 in /Users/kirfi/anaconda3/lib/python3.11/site-packages (from ultralytics) (0.12.2)\n",
      "Collecting ultralytics-thop>=2.0.0 (from ultralytics)\n",
      "  Obtaining dependency information for ultralytics-thop>=2.0.0 from https://files.pythonhosted.org/packages/d7/ec/3650362c6cd72f0a2a9d840cbe7a136ceea6e06b02bb7088a4f436accc5c/ultralytics_thop-2.0.11-py3-none-any.whl.metadata\n",
      "  Downloading ultralytics_thop-2.0.11-py3-none-any.whl.metadata (9.4 kB)\n",
      "Requirement already satisfied: contourpy>=1.0.1 in /Users/kirfi/anaconda3/lib/python3.11/site-packages (from matplotlib>=3.3.0->ultralytics) (1.0.5)\n",
      "Requirement already satisfied: cycler>=0.10 in /Users/kirfi/anaconda3/lib/python3.11/site-packages (from matplotlib>=3.3.0->ultralytics) (0.11.0)\n",
      "Requirement already satisfied: fonttools>=4.22.0 in /Users/kirfi/anaconda3/lib/python3.11/site-packages (from matplotlib>=3.3.0->ultralytics) (4.25.0)\n",
      "Requirement already satisfied: kiwisolver>=1.3.1 in /Users/kirfi/anaconda3/lib/python3.11/site-packages (from matplotlib>=3.3.0->ultralytics) (1.4.5)\n",
      "Requirement already satisfied: packaging>=20.0 in /Users/kirfi/anaconda3/lib/python3.11/site-packages (from matplotlib>=3.3.0->ultralytics) (23.1)\n",
      "Requirement already satisfied: pyparsing>=2.3.1 in /Users/kirfi/anaconda3/lib/python3.11/site-packages (from matplotlib>=3.3.0->ultralytics) (3.0.9)\n",
      "Requirement already satisfied: python-dateutil>=2.7 in /Users/kirfi/anaconda3/lib/python3.11/site-packages (from matplotlib>=3.3.0->ultralytics) (2.9.0.post0)\n",
      "Requirement already satisfied: pytz>=2020.1 in /Users/kirfi/anaconda3/lib/python3.11/site-packages (from pandas>=1.1.4->ultralytics) (2023.3.post1)\n",
      "Requirement already satisfied: tzdata>=2022.7 in /Users/kirfi/anaconda3/lib/python3.11/site-packages (from pandas>=1.1.4->ultralytics) (2024.2)\n",
      "Requirement already satisfied: charset-normalizer<4,>=2 in /Users/kirfi/anaconda3/lib/python3.11/site-packages (from requests>=2.23.0->ultralytics) (2.0.4)\n",
      "Requirement already satisfied: idna<4,>=2.5 in /Users/kirfi/anaconda3/lib/python3.11/site-packages (from requests>=2.23.0->ultralytics) (3.10)\n",
      "Requirement already satisfied: urllib3<3,>=1.21.1 in /Users/kirfi/anaconda3/lib/python3.11/site-packages (from requests>=2.23.0->ultralytics) (1.26.16)\n",
      "Requirement already satisfied: certifi>=2017.4.17 in /Users/kirfi/anaconda3/lib/python3.11/site-packages (from requests>=2.23.0->ultralytics) (2023.7.22)\n",
      "Requirement already satisfied: filelock in /Users/kirfi/anaconda3/lib/python3.11/site-packages (from torch>=1.8.0->ultralytics) (3.9.0)\n",
      "Requirement already satisfied: typing-extensions in /Users/kirfi/anaconda3/lib/python3.11/site-packages (from torch>=1.8.0->ultralytics) (4.12.2)\n",
      "Requirement already satisfied: sympy in /Users/kirfi/anaconda3/lib/python3.11/site-packages (from torch>=1.8.0->ultralytics) (1.11.1)\n",
      "Requirement already satisfied: networkx in /Users/kirfi/anaconda3/lib/python3.11/site-packages (from torch>=1.8.0->ultralytics) (3.1)\n",
      "Requirement already satisfied: jinja2 in /Users/kirfi/anaconda3/lib/python3.11/site-packages (from torch>=1.8.0->ultralytics) (3.1.2)\n",
      "Requirement already satisfied: fsspec in /Users/kirfi/anaconda3/lib/python3.11/site-packages (from torch>=1.8.0->ultralytics) (2024.6.1)\n",
      "Requirement already satisfied: six>=1.5 in /Users/kirfi/anaconda3/lib/python3.11/site-packages (from python-dateutil>=2.7->matplotlib>=3.3.0->ultralytics) (1.16.0)\n",
      "Requirement already satisfied: MarkupSafe>=2.0 in /Users/kirfi/anaconda3/lib/python3.11/site-packages (from jinja2->torch>=1.8.0->ultralytics) (2.1.1)\n",
      "Requirement already satisfied: mpmath>=0.19 in /Users/kirfi/anaconda3/lib/python3.11/site-packages (from sympy->torch>=1.8.0->ultralytics) (1.3.0)\n",
      "Downloading ultralytics-8.3.28-py3-none-any.whl (881 kB)\n",
      "\u001b[2K   \u001b[90m━━━━━━━━━━━━━━━━━━━━━━━━━━━━━━━━━━━━━━━━\u001b[0m \u001b[32m881.2/881.2 kB\u001b[0m \u001b[31m3.4 MB/s\u001b[0m eta \u001b[36m0:00:00\u001b[0ma \u001b[36m0:00:01\u001b[0mm\n",
      "\u001b[?25hDownloading ultralytics_thop-2.0.11-py3-none-any.whl (26 kB)\n",
      "Installing collected packages: ultralytics-thop, ultralytics\n",
      "Successfully installed ultralytics-8.3.28 ultralytics-thop-2.0.11\n"
     ]
    }
   ],
   "source": [
    "!pip install ultralytics"
   ]
  },
  {
   "cell_type": "code",
   "execution_count": 29,
   "id": "5716ab30",
   "metadata": {},
   "outputs": [
    {
     "name": "stdout",
     "output_type": "stream",
     "text": [
      "Файл сохранен как output_image5.jpg\n"
     ]
    }
   ],
   "source": [
    "import pydicom\n",
    "from PIL import Image\n",
    "import numpy as np\n",
    "\n",
    "def dcm_to_jpg(dcm_path, jpg_path):\n",
    "    # Загрузка DICOM-файла\n",
    "    dicom_data = pydicom.dcmread(dcm_path)\n",
    "    \n",
    "    # Получение пиксельных данных и нормализация\n",
    "    image_array = dicom_data.pixel_array\n",
    "    image_array = (image_array - np.min(image_array)) / (np.max(image_array) - np.min(image_array)) * 255\n",
    "    image_array = image_array.astype(np.uint8)\n",
    "\n",
    "    # Создание изображения в формате PIL\n",
    "    image = Image.fromarray(image_array)\n",
    "\n",
    "    # Сохранение изображения в формате JPEG\n",
    "    image.save(jpg_path, \"JPEG\")\n",
    "    print(f\"Файл сохранен как {jpg_path}\")\n",
    "\n",
    "dcm_path = \"/Users/kirfi/Downloads/LiverProject/PVTFormer/CT/6/DICOM_anon/i0021,0000b.dcm\"\n",
    "jpg_path = \"output_image5.jpg\"\n",
    "dcm_to_jpg(dcm_path, jpg_path)\n"
   ]
  },
  {
   "cell_type": "code",
   "execution_count": 10,
   "id": "c615c865",
   "metadata": {},
   "outputs": [
    {
     "name": "stderr",
     "output_type": "stream",
     "text": [
      "Обработка папок:   0%|                                   | 0/20 [00:00<?, ?it/s]\n",
      "Обработка файлов в 18:   0%|                            | 0/111 [00:00<?, ?it/s]\u001b[A\n",
      "Обработка файлов в 18:  23%|████▏             | 26/111 [00:00<00:00, 253.98it/s]\u001b[A\n",
      "Обработка файлов в 18:  55%|█████████▉        | 61/111 [00:00<00:00, 309.05it/s]\u001b[A\n",
      "Обработка файлов в 18:  86%|███████████████▌  | 96/111 [00:00<00:00, 325.28it/s]\u001b[A\n",
      "Обработка папок:   5%|█▎                         | 1/20 [00:00<00:06,  2.84it/s]\u001b[A\n",
      "Обработка файлов в 27:   0%|                            | 0/242 [00:00<?, ?it/s]\u001b[A\n",
      "Обработка файлов в 27:  12%|██▏               | 30/242 [00:00<00:00, 297.24it/s]\u001b[A\n",
      "Обработка файлов в 27:  25%|████▌             | 61/242 [00:00<00:00, 301.64it/s]\u001b[A\n",
      "Обработка файлов в 27:  40%|███████▎          | 98/242 [00:00<00:00, 332.24it/s]\u001b[A"
     ]
    },
    {
     "name": "stdout",
     "output_type": "stream",
     "text": [
      "Аннотация не найдена для файла CT/27/Ground/liver_GT_242.png\n"
     ]
    },
    {
     "name": "stderr",
     "output_type": "stream",
     "text": [
      "\n",
      "Обработка файлов в 27:  56%|█████████▌       | 136/242 [00:00<00:00, 350.00it/s]\u001b[A\n",
      "Обработка файлов в 27:  71%|████████████▏    | 173/242 [00:00<00:00, 356.77it/s]\u001b[A\n",
      "Обработка файлов в 27:  86%|██████████████▋  | 209/242 [00:00<00:00, 353.00it/s]\u001b[A\n",
      "Обработка папок:  10%|██▋                        | 2/20 [00:01<00:10,  1.75it/s]\u001b[A\n",
      "Обработка файлов в 29:   0%|                            | 0/214 [00:00<?, ?it/s]\u001b[A\n",
      "Обработка файлов в 29:  18%|███▏              | 38/214 [00:00<00:00, 375.66it/s]\u001b[A\n",
      "Обработка файлов в 29:  36%|██████▍           | 76/214 [00:00<00:00, 340.64it/s]\u001b[A\n",
      "Обработка файлов в 29:  52%|████████▊        | 111/214 [00:00<00:00, 326.26it/s]\u001b[A"
     ]
    },
    {
     "name": "stdout",
     "output_type": "stream",
     "text": [
      "Аннотация не найдена для файла CT/29/Ground/liver_GT_214.png\n"
     ]
    },
    {
     "name": "stderr",
     "output_type": "stream",
     "text": [
      "\n",
      "Обработка файлов в 29:  67%|███████████▍     | 144/214 [00:00<00:00, 324.72it/s]\u001b[A\n",
      "Обработка файлов в 29:  84%|██████████████▏  | 179/214 [00:00<00:00, 333.21it/s]\u001b[A\n",
      "Обработка папок:  15%|████                       | 3/20 [00:01<00:10,  1.67it/s]\u001b[A\n",
      "Обработка файлов в 16:   0%|                             | 0/91 [00:00<?, ?it/s]\u001b[A\n",
      "Обработка файлов в 16:  37%|███████            | 34/91 [00:00<00:00, 333.35it/s]\u001b[A\n",
      "Обработка файлов в 16:  75%|██████████████▏    | 68/91 [00:00<00:00, 328.25it/s]\u001b[A\n",
      "Обработка папок:  20%|█████▍                     | 4/20 [00:01<00:07,  2.12it/s]\u001b[A\n",
      "Обработка файлов в 6:   0%|                              | 0/88 [00:00<?, ?it/s]\u001b[A\n",
      "Обработка файлов в 6:  36%|███████▎            | 32/88 [00:00<00:00, 312.81it/s]\u001b[A\n",
      "Обработка файлов в 6:  73%|██████████████▌     | 64/88 [00:00<00:00, 308.86it/s]\u001b[A\n",
      "Обработка папок:  25%|██████▊                    | 5/20 [00:02<00:06,  2.47it/s]\u001b[A\n",
      "Обработка файлов в 28:   0%|                            | 0/102 [00:00<?, ?it/s]\u001b[A\n",
      "Обработка файлов в 28:  31%|█████▋            | 32/102 [00:00<00:00, 319.64it/s]\u001b[A\n",
      "Обработка файлов в 28:  66%|███████████▊      | 67/102 [00:00<00:00, 335.88it/s]\u001b[A\n",
      "Обработка файлов в 28: 100%|█████████████████| 102/102 [00:00<00:00, 338.60it/s]\u001b[A\n",
      "Обработка папок:  30%|████████                   | 6/20 [00:02<00:05,  2.70it/s]\u001b[A"
     ]
    },
    {
     "name": "stdout",
     "output_type": "stream",
     "text": [
      "Аннотация не найдена для файла CT/28/Ground/liver_GT_102.png\n"
     ]
    },
    {
     "name": "stderr",
     "output_type": "stream",
     "text": [
      "\n",
      "Обработка файлов в 1:   0%|                              | 0/96 [00:00<?, ?it/s]\u001b[A\n",
      "Обработка файлов в 1:  34%|██████▉             | 33/96 [00:00<00:00, 327.92it/s]\u001b[A\n",
      "Обработка файлов в 1:  71%|██████████████▏     | 68/96 [00:00<00:00, 335.59it/s]\u001b[A\n",
      "Обработка папок:  35%|█████████▍                 | 7/20 [00:02<00:04,  2.91it/s]\u001b[A\n",
      "Обработка файлов в 10:   0%|                            | 0/110 [00:00<?, ?it/s]\u001b[A\n",
      "Обработка файлов в 10:  31%|█████▌            | 34/110 [00:00<00:00, 335.86it/s]\u001b[A\n",
      "Обработка файлов в 10:  62%|███████████▏      | 68/110 [00:00<00:00, 337.27it/s]\u001b[A\n",
      "Обработка файлов в 10:  95%|████████████████ | 104/110 [00:00<00:00, 346.26it/s]\u001b[A\n",
      "Обработка папок:  40%|██████████▊                | 8/20 [00:03<00:04,  2.97it/s]\u001b[A\n",
      "Обработка файлов в 19:   0%|                             | 0/90 [00:00<?, ?it/s]\u001b[A\n",
      "Обработка файлов в 19:  38%|███████▏           | 34/90 [00:00<00:00, 331.67it/s]\u001b[A\n",
      "Обработка файлов в 19:  77%|██████████████▌    | 69/90 [00:00<00:00, 338.68it/s]\u001b[A\n",
      "Обработка папок:  45%|████████████▏              | 9/20 [00:03<00:03,  3.17it/s]\u001b[A\n",
      "Обработка файлов в 26:   0%|                            | 0/114 [00:00<?, ?it/s]\u001b[A\n",
      "Обработка файлов в 26:  29%|█████▏            | 33/114 [00:00<00:00, 325.16it/s]\u001b[A\n",
      "Обработка файлов в 26:  58%|██████████▍       | 66/114 [00:00<00:00, 318.49it/s]\u001b[A\n",
      "Обработка файлов в 26:  88%|██████████████▉  | 100/114 [00:00<00:00, 327.61it/s]\u001b[A\n",
      "Обработка папок:  50%|█████████████             | 10/20 [00:03<00:03,  3.07it/s]\u001b[A"
     ]
    },
    {
     "name": "stdout",
     "output_type": "stream",
     "text": [
      "Аннотация не найдена для файла CT/26/Ground/liver_GT_114.png\n"
     ]
    },
    {
     "name": "stderr",
     "output_type": "stream",
     "text": [
      "\n",
      "Обработка файлов в 8:   0%|                             | 0/123 [00:00<?, ?it/s]\u001b[A\n",
      "Обработка файлов в 8:  29%|█████▌             | 36/123 [00:00<00:00, 355.42it/s]\u001b[A\n",
      "Обработка файлов в 8:  59%|███████████▎       | 73/123 [00:00<00:00, 361.90it/s]\u001b[A\n",
      "Обработка файлов в 8:  89%|████████████████  | 110/123 [00:00<00:00, 365.15it/s]\u001b[A\n",
      "Обработка папок:  55%|██████████████▎           | 11/20 [00:04<00:02,  3.03it/s]\u001b[A\n",
      "Обработка файлов в 21:   0%|                            | 0/257 [00:00<?, ?it/s]\u001b[A\n",
      "Обработка файлов в 21:  12%|██▏               | 31/257 [00:00<00:00, 305.87it/s]\u001b[A\n",
      "Обработка файлов в 21:  25%|████▌             | 65/257 [00:00<00:00, 322.69it/s]\u001b[A\n",
      "Обработка файлов в 21:  40%|██████▊          | 103/257 [00:00<00:00, 348.48it/s]\u001b[A\n",
      "Обработка файлов в 21:  55%|█████████▎       | 141/257 [00:00<00:00, 358.61it/s]\u001b[A\n",
      "Обработка файлов в 21:  70%|███████████▊     | 179/257 [00:00<00:00, 363.74it/s]\u001b[A\n",
      "Обработка файлов в 21:  84%|██████████████▎  | 216/257 [00:00<00:00, 356.84it/s]\u001b[A\n",
      "Обработка файлов в 21:  98%|████████████████▋| 252/257 [00:00<00:00, 349.63it/s]\u001b[A\n",
      "Обработка папок:  60%|███████████████▌          | 12/20 [00:04<00:03,  2.19it/s]\u001b[A"
     ]
    },
    {
     "name": "stdout",
     "output_type": "stream",
     "text": [
      "Аннотация не найдена для файла CT/21/Ground/liver_GT_257.png\n"
     ]
    },
    {
     "name": "stderr",
     "output_type": "stream",
     "text": [
      "\n",
      "Обработка файлов в 30:   0%|                            | 0/266 [00:00<?, ?it/s]\u001b[A\n",
      "Обработка файлов в 30:  13%|██▎               | 34/266 [00:00<00:00, 332.30it/s]\u001b[A\n",
      "Обработка файлов в 30:  26%|████▋             | 69/266 [00:00<00:00, 338.74it/s]\u001b[A\n",
      "Обработка файлов в 30:  40%|██████▊          | 106/266 [00:00<00:00, 350.11it/s]\u001b[A\n",
      "Обработка файлов в 30:  54%|█████████▏       | 143/266 [00:00<00:00, 357.28it/s]\u001b[A\n",
      "Обработка файлов в 30:  68%|███████████▌     | 181/266 [00:00<00:00, 363.96it/s]\u001b[A\n",
      "Обработка файлов в 30:  82%|█████████████▉   | 219/266 [00:00<00:00, 368.11it/s]\u001b[A\n",
      "Обработка файлов в 30:  96%|████████████████▎| 256/266 [00:00<00:00, 353.47it/s]\u001b[A\n",
      "Обработка папок:  65%|████████████████▉         | 13/20 [00:05<00:03,  1.83it/s]\u001b[A"
     ]
    },
    {
     "name": "stdout",
     "output_type": "stream",
     "text": [
      "Аннотация не найдена для файла CT/30/Ground/liver_GT_266.png\n"
     ]
    },
    {
     "name": "stderr",
     "output_type": "stream",
     "text": [
      "\n",
      "Обработка файлов в 24:   0%|                            | 0/123 [00:00<?, ?it/s]\u001b[A\n",
      "Обработка файлов в 24:  29%|█████▎            | 36/123 [00:00<00:00, 359.04it/s]\u001b[A\n",
      "Обработка файлов в 24:  59%|██████████▌       | 72/123 [00:00<00:00, 350.63it/s]\u001b[A\n",
      "Обработка файлов в 24:  88%|██████████████▉  | 108/123 [00:00<00:00, 340.12it/s]\u001b[A\n",
      "Обработка папок:  70%|██████████████████▏       | 14/20 [00:06<00:02,  2.02it/s]\u001b[A"
     ]
    },
    {
     "name": "stdout",
     "output_type": "stream",
     "text": [
      "Аннотация не найдена для файла CT/24/Ground/liver_GT_123.png\n"
     ]
    },
    {
     "name": "stderr",
     "output_type": "stream",
     "text": [
      "\n",
      "Обработка файлов в 23:   0%|                            | 0/240 [00:00<?, ?it/s]\u001b[A\n",
      "Обработка файлов в 23:  16%|██▊               | 38/240 [00:00<00:00, 378.63it/s]\u001b[A\n",
      "Обработка файлов в 23:  32%|█████▋            | 76/240 [00:00<00:00, 368.00it/s]\u001b[A\n",
      "Обработка файлов в 23:  47%|████████         | 113/240 [00:00<00:00, 339.55it/s]\u001b[A\n",
      "Обработка файлов в 23:  62%|██████████▍      | 148/240 [00:00<00:00, 332.23it/s]\u001b[A\n",
      "Обработка файлов в 23:  76%|████████████▉    | 183/240 [00:00<00:00, 336.01it/s]\u001b[A"
     ]
    },
    {
     "name": "stdout",
     "output_type": "stream",
     "text": [
      "Аннотация не найдена для файла CT/23/Ground/liver_GT_240.png\n"
     ]
    },
    {
     "name": "stderr",
     "output_type": "stream",
     "text": [
      "\n",
      "Обработка файлов в 23:  92%|███████████████▋ | 222/240 [00:00<00:00, 353.50it/s]\u001b[A\n",
      "Обработка папок:  75%|███████████████████▌      | 15/20 [00:06<00:02,  1.81it/s]\u001b[A\n",
      "Обработка файлов в 2:   0%|                              | 0/81 [00:00<?, ?it/s]\u001b[A\n",
      "Обработка файлов в 2:  43%|████████▋           | 35/81 [00:00<00:00, 344.64it/s]\u001b[A\n",
      "Обработка файлов в 2:  86%|█████████████████▎  | 70/81 [00:00<00:00, 347.02it/s]\u001b[A\n",
      "Обработка папок:  80%|████████████████████▊     | 16/20 [00:06<00:01,  2.18it/s]\u001b[A\n",
      "Обработка файлов в 5:   0%|                              | 0/95 [00:00<?, ?it/s]\u001b[A\n",
      "Обработка файлов в 5:  36%|███████▏            | 34/95 [00:00<00:00, 331.06it/s]\u001b[A\n",
      "Обработка файлов в 5:  72%|██████████████▎     | 68/95 [00:00<00:00, 332.10it/s]\u001b[A\n",
      "Обработка папок:  85%|██████████████████████    | 17/20 [00:07<00:01,  2.45it/s]\u001b[A\n",
      "Обработка файлов в 14:   0%|                             | 0/95 [00:00<?, ?it/s]\u001b[A\n",
      "Обработка файлов в 14:  35%|██████▌            | 33/95 [00:00<00:00, 329.65it/s]\u001b[A\n",
      "Обработка файлов в 14:  72%|█████████████▌     | 68/95 [00:00<00:00, 339.29it/s]\u001b[A\n",
      "Обработка папок:  90%|███████████████████████▍  | 18/20 [00:07<00:00,  2.69it/s]\u001b[A\n",
      "Обработка файлов в 22:   0%|                            | 0/101 [00:00<?, ?it/s]\u001b[A\n",
      "Обработка файлов в 22:  30%|█████▎            | 30/101 [00:00<00:00, 293.19it/s]\u001b[A\n",
      "Обработка файлов в 22:  61%|███████████       | 62/101 [00:00<00:00, 308.04it/s]\u001b[A\n",
      "Обработка файлов в 22:  94%|████████████████▉ | 95/101 [00:00<00:00, 312.24it/s]\u001b[A\n",
      "Обработка папок:  95%|████████████████████████▋ | 19/20 [00:07<00:00,  2.78it/s]\u001b[A"
     ]
    },
    {
     "name": "stdout",
     "output_type": "stream",
     "text": [
      "Аннотация не найдена для файла CT/22/Ground/liver_GT_101.png\n"
     ]
    },
    {
     "name": "stderr",
     "output_type": "stream",
     "text": [
      "\n",
      "Обработка файлов в 25:   0%|                            | 0/235 [00:00<?, ?it/s]\u001b[A\n",
      "Обработка файлов в 25:  16%|██▊               | 37/235 [00:00<00:00, 361.28it/s]\u001b[A\n",
      "Обработка файлов в 25:  32%|█████▋            | 75/235 [00:00<00:00, 365.58it/s]\u001b[A"
     ]
    },
    {
     "name": "stdout",
     "output_type": "stream",
     "text": [
      "Аннотация не найдена для файла CT/25/Ground/liver_GT_235.png\n"
     ]
    },
    {
     "name": "stderr",
     "output_type": "stream",
     "text": [
      "\n",
      "Обработка файлов в 25:  48%|████████         | 112/235 [00:00<00:00, 318.93it/s]\u001b[A\n",
      "Обработка файлов в 25:  62%|██████████▍      | 145/235 [00:00<00:00, 308.06it/s]\u001b[A\n",
      "Обработка файлов в 25:  75%|████████████▊    | 177/235 [00:00<00:00, 302.07it/s]\u001b[A\n",
      "Обработка файлов в 25:  92%|███████████████▋ | 216/235 [00:00<00:00, 327.34it/s]\u001b[A\n",
      "Обработка папок: 100%|██████████████████████████| 20/20 [00:08<00:00,  2.33it/s]\u001b[A\n"
     ]
    }
   ],
   "source": [
    "import os\n",
    "import cv2\n",
    "import numpy as np\n",
    "import pydicom\n",
    "from PIL import Image\n",
    "from tqdm import tqdm\n",
    "import re\n",
    "\n",
    "def dcm_to_jpg(dcm_path, jpg_path):\n",
    "    dicom_data = pydicom.dcmread(dcm_path)\n",
    "    image_array = dicom_data.pixel_array\n",
    "    image_array = (image_array - np.min(image_array)) / (np.max(image_array) - np.min(image_array)) * 255\n",
    "    image_array = image_array.astype(np.uint8)\n",
    "    image = Image.fromarray(image_array)\n",
    "    image.save(jpg_path, \"JPEG\")\n",
    "\n",
    "def get_contours_from_annotation(annotation_path):\n",
    "    img = cv2.imread(annotation_path, cv2.IMREAD_GRAYSCALE)\n",
    "    _, binary = cv2.threshold(img, 127, 255, cv2.THRESH_BINARY)\n",
    "    contours, _ = cv2.findContours(binary, cv2.RETR_EXTERNAL, cv2.CHAIN_APPROX_SIMPLE)\n",
    "    yolo_coords = []\n",
    "    for contour in contours:\n",
    "        points = contour.reshape(-1, 2)\n",
    "        height, width = img.shape[:2]\n",
    "        normalized_points = [(x / width, y / height) for x, y in points]\n",
    "        yolo_coords.append(normalized_points)\n",
    "    return yolo_coords\n",
    "\n",
    "def save_yolo_format(contours, output_path):\n",
    "    with open(output_path, 'w') as f:\n",
    "        for contour in contours:\n",
    "            class_id = 0\n",
    "            contour_str = f\"{class_id} \" + \" \".join([f\"{x:.6f} {y:.6f}\" for x, y in contour]) + \"\\n\"\n",
    "            f.write(contour_str)\n",
    "\n",
    "def extract_annotation_number(filename):\n",
    "    match = re.search(r\"i(\\d{4}),\\d{4}b\", filename)\n",
    "    if match:\n",
    "        return f\"{int(match.group(1)):03d}\"\n",
    "    \n",
    "    match = re.search(r\"IMG-\\d{4}-(\\d{5})\", filename)\n",
    "    if match:\n",
    "        return f\"{int(match.group(1)[1:]):03d}\"\n",
    "    \n",
    "    return None\n",
    "\n",
    "def process_dataset(root_dir, output_dir):\n",
    "    images_dir = os.path.join(output_dir, \"images\")\n",
    "    labels_dir = os.path.join(output_dir, \"labels\")\n",
    "    os.makedirs(images_dir, exist_ok=True)\n",
    "    os.makedirs(labels_dir, exist_ok=True)\n",
    "\n",
    "    folders = [folder for folder in os.listdir(root_dir) if os.path.isdir(os.path.join(root_dir, folder))]\n",
    "    \n",
    "    for folder in tqdm(folders, desc=\"Обработка папок\"):\n",
    "        folder_path = os.path.join(root_dir, folder)\n",
    "        ground_dir = os.path.join(folder_path, \"Ground\")\n",
    "        dicom_dir = os.path.join(folder_path, \"DICOM_anon\")\n",
    "        \n",
    "        dicom_files = [f for f in os.listdir(dicom_dir) if f.endswith(\".dcm\")]\n",
    "        \n",
    "        for filename in tqdm(dicom_files, desc=f\"Обработка файлов в {folder}\", leave=False):\n",
    "            annotation_number = extract_annotation_number(filename)\n",
    "            if annotation_number is None:\n",
    "                print(f\"Не удалось извлечь номер аннотации для файла {filename}\")\n",
    "                continue\n",
    "\n",
    "            # Формируем имена для JPG и TXT файлов с учетом папки\n",
    "            base_name = f\"liver_GT_{annotation_number}\"\n",
    "            jpg_filename = f\"{base_name}_{folder}.jpg\"\n",
    "            txt_filename = f\"{base_name}_{folder}.txt\"\n",
    "            \n",
    "            jpg_path = os.path.join(images_dir, jpg_filename)\n",
    "            txt_path = os.path.join(labels_dir, txt_filename)\n",
    "            \n",
    "            # Преобразование DICOM в JPG\n",
    "            dcm_path = os.path.join(dicom_dir, filename)\n",
    "            dcm_to_jpg(dcm_path, jpg_path)\n",
    "            \n",
    "            # Обработка файла аннотации\n",
    "            annotation_path = os.path.join(ground_dir, f\"{base_name}.png\")\n",
    "            if os.path.exists(annotation_path):\n",
    "                contours = get_contours_from_annotation(annotation_path)\n",
    "                save_yolo_format(contours, txt_path)\n",
    "            else:\n",
    "                # Создаем пустой файл TXT, если аннотация не найдена\n",
    "                open(txt_path, 'w').close()\n",
    "                print(f\"Аннотация не найдена для файла {annotation_path}\")\n",
    "\n",
    "\n",
    "root_dir = \"CT\"  # корневая папка с DICOM и аннотациями\n",
    "output_dir = \"yolo_dataset\"  # папка для сохранения датасета YOLO\n",
    "process_dataset(root_dir, output_dir)\n"
   ]
  },
  {
   "cell_type": "code",
   "execution_count": null,
   "id": "44721558",
   "metadata": {},
   "outputs": [],
   "source": [
    "import os\n",
    "import shutil\n",
    "\n",
    "# Исходные пути\n",
    "base_path = '/Users/kirfi/Downloads/LiverProject/PVTFormer/datasets/yolo_dataset'\n",
    "images_path = os.path.join(base_path, 'images')\n",
    "labels_path = os.path.join(base_path, 'labels')\n",
    "\n",
    "# Пути для новой структуры\n",
    "new_base_path = '/Users/kirfi/Downloads/LiverProject/PVTFormer/datasets/yolo_dataset_v2'\n",
    "split_paths = {\n",
    "    'train': {'images': os.path.join(new_base_path, 'train/images'), 'labels': os.path.join(new_base_path, 'train/labels')},\n",
    "    'val': {'images': os.path.join(new_base_path, 'val/images'), 'labels': os.path.join(new_base_path, 'val/labels')},\n",
    "    'test': {'images': os.path.join(new_base_path, 'test/images'), 'labels': os.path.join(new_base_path, 'test/labels')}\n",
    "}\n",
    "\n",
    "# Создание структуры папок\n",
    "for split in split_paths:\n",
    "    os.makedirs(split_paths[split]['images'], exist_ok=True)\n",
    "    os.makedirs(split_paths[split]['labels'], exist_ok=True)\n",
    "\n",
    "# Критерии для val и test\n",
    "val_suffixes = ('_1', '_10', '_16', '_23')\n",
    "test_suffixes = ('_8', '_6', '_21', '_19')\n",
    "\n",
    "# Функция для определения набора\n",
    "def determine_split(filename):\n",
    "    if filename.endswith(val_suffixes):\n",
    "        return 'val'\n",
    "    elif filename.endswith(test_suffixes):\n",
    "        return 'test'\n",
    "    else:\n",
    "        return 'train'\n",
    "\n",
    "# Перемещение файлов\n",
    "for filename in os.listdir(images_path):\n",
    "    if filename.endswith('.jpg') or filename.endswith('.png'):\n",
    "        split = determine_split(filename.split('.')[0])\n",
    "        shutil.move(os.path.join(images_path, filename), os.path.join(split_paths[split]['images'], filename))\n",
    "        \n",
    "        # Перемещение соответствующего файла меток\n",
    "        label_file = filename.rsplit('.', 1)[0] + '.txt'\n",
    "        if os.path.exists(os.path.join(labels_path, label_file)):\n",
    "            shutil.move(os.path.join(labels_path, label_file), os.path.join(split_paths[split]['labels'], label_file))\n"
   ]
  },
  {
   "cell_type": "code",
   "execution_count": 3,
   "id": "89bd831a",
   "metadata": {},
   "outputs": [
    {
     "data": {
      "image/png": "[encoded data removed]",
      "text/plain": [
       "<Figure size 640x480 with 1 Axes>"
      ]
     },
     "metadata": {},
     "output_type": "display_data"
    }
   ],
   "source": [
    "from PIL import Image, ImageDraw\n",
    "import matplotlib.pyplot as plt\n",
    "\n",
    "# Загрузка изображения\n",
    "image_path = \"CT/1/Ground/liver_GT_004.png\"\n",
    "image = Image.open(image_path)\n",
    "draw = ImageDraw.Draw(image)\n",
    "\n",
    "# Загрузка файла разметки\n",
    "label_path = \"output.txt\"\n",
    "image_width, image_height = image.size\n",
    "\n",
    "# Чтение и обработка разметки\n",
    "with open(label_path, 'r') as file:\n",
    "    for line in file:\n",
    "        data = line.split()\n",
    "        class_id = int(data[0])\n",
    "        coordinates = list(map(float, data[1:]))\n",
    "\n",
    "        # Преобразование нормализованных координат в пиксели\n",
    "        pixel_coordinates = []\n",
    "        for i in range(0, len(coordinates), 2):\n",
    "            x = int(coordinates[i] * image_width)\n",
    "            y = int(coordinates[i + 1] * image_height)\n",
    "            pixel_coordinates.append((x, y))\n",
    "\n",
    "        # Рисование контура\n",
    "        draw.line(pixel_coordinates, fill=\"red\", width=2)\n",
    "        \n",
    "        draw.line([pixel_coordinates[-1], pixel_coordinates[0]], fill=\"red\", width=2)\n",
    "\n",
    "plt.imshow(image)\n",
    "plt.axis(\"off\")\n",
    "plt.show()\n"
   ]
  },
  {
   "cell_type": "code",
   "execution_count": 15,
   "id": "f11c200f",
   "metadata": {},
   "outputs": [
    {
     "name": "stdout",
     "output_type": "stream",
     "text": [
      "New https://pypi.org/project/ultralytics/8.3.29 available 😃 Update with 'pip install -U ultralytics'\n",
      "Ultralytics 8.3.28 🚀 Python-3.11.5 torch-2.1.1 MPS (Apple M2 Pro)\n",
      "\u001b[34m\u001b[1mengine/trainer: \u001b[0mtask=segment, mode=train, model=yolo11n-seg.pt, data=liver.yaml, epochs=100, time=None, patience=100, batch=16, imgsz=640, save=True, save_period=-1, cache=False, device=mps, workers=8, project=None, name=train7, exist_ok=False, pretrained=True, optimizer=auto, verbose=True, seed=0, deterministic=True, single_cls=False, rect=False, cos_lr=False, close_mosaic=10, resume=False, amp=True, fraction=1.0, profile=False, freeze=None, multi_scale=False, overlap_mask=True, mask_ratio=4, dropout=0.0, val=True, split=val, save_json=False, save_hybrid=False, conf=None, iou=0.7, max_det=300, half=False, dnn=False, plots=True, source=None, vid_stride=1, stream_buffer=False, visualize=False, augment=False, agnostic_nms=False, classes=None, retina_masks=False, embed=None, show=False, save_frames=False, save_txt=False, save_conf=False, save_crop=False, show_labels=True, show_conf=True, show_boxes=True, line_width=None, format=torchscript, keras=False, optimize=False, int8=False, dynamic=False, simplify=True, opset=None, workspace=4, nms=False, lr0=0.01, lrf=0.01, momentum=0.937, weight_decay=0.0005, warmup_epochs=3.0, warmup_momentum=0.8, warmup_bias_lr=0.1, box=7.5, cls=0.5, dfl=1.5, pose=12.0, kobj=1.0, label_smoothing=0.0, nbs=64, hsv_h=0.015, hsv_s=0.7, hsv_v=0.4, degrees=0.0, translate=0.1, scale=0.5, shear=0.0, perspective=0.0, flipud=0.0, fliplr=0.5, bgr=0.0, mosaic=1.0, mixup=0.0, copy_paste=0.0, copy_paste_mode=flip, auto_augment=randaugment, erasing=0.4, crop_fraction=1.0, cfg=None, tracker=botsort.yaml, save_dir=runs/segment/train7\n",
      "Overriding model.yaml nc=80 with nc=1\n",
      "\n",
      "                   from  n    params  module                                       arguments                     \n",
      "  0                  -1  1       464  ultralytics.nn.modules.conv.Conv             [3, 16, 3, 2]                 \n",
      "  1                  -1  1      4672  ultralytics.nn.modules.conv.Conv             [16, 32, 3, 2]                \n",
      "  2                  -1  1      6640  ultralytics.nn.modules.block.C3k2            [32, 64, 1, False, 0.25]      \n",
      "  3                  -1  1     36992  ultralytics.nn.modules.conv.Conv             [64, 64, 3, 2]                \n",
      "  4                  -1  1     26080  ultralytics.nn.modules.block.C3k2            [64, 128, 1, False, 0.25]     \n",
      "  5                  -1  1    147712  ultralytics.nn.modules.conv.Conv             [128, 128, 3, 2]              \n",
      "  6                  -1  1     87040  ultralytics.nn.modules.block.C3k2            [128, 128, 1, True]           \n",
      "  7                  -1  1    295424  ultralytics.nn.modules.conv.Conv             [128, 256, 3, 2]              \n",
      "  8                  -1  1    346112  ultralytics.nn.modules.block.C3k2            [256, 256, 1, True]           \n",
      "  9                  -1  1    164608  ultralytics.nn.modules.block.SPPF            [256, 256, 5]                 \n",
      " 10                  -1  1    249728  ultralytics.nn.modules.block.C2PSA           [256, 256, 1]                 \n",
      " 11                  -1  1         0  torch.nn.modules.upsampling.Upsample         [None, 2, 'nearest']          \n",
      " 12             [-1, 6]  1         0  ultralytics.nn.modules.conv.Concat           [1]                           \n",
      " 13                  -1  1    111296  ultralytics.nn.modules.block.C3k2            [384, 128, 1, False]          \n",
      " 14                  -1  1         0  torch.nn.modules.upsampling.Upsample         [None, 2, 'nearest']          \n",
      " 15             [-1, 4]  1         0  ultralytics.nn.modules.conv.Concat           [1]                           \n",
      " 16                  -1  1     32096  ultralytics.nn.modules.block.C3k2            [256, 64, 1, False]           \n",
      " 17                  -1  1     36992  ultralytics.nn.modules.conv.Conv             [64, 64, 3, 2]                \n",
      " 18            [-1, 13]  1         0  ultralytics.nn.modules.conv.Concat           [1]                           \n",
      " 19                  -1  1     86720  ultralytics.nn.modules.block.C3k2            [192, 128, 1, False]          \n",
      " 20                  -1  1    147712  ultralytics.nn.modules.conv.Conv             [128, 128, 3, 2]              \n",
      " 21            [-1, 10]  1         0  ultralytics.nn.modules.conv.Concat           [1]                           \n",
      " 22                  -1  1    378880  ultralytics.nn.modules.block.C3k2            [384, 256, 1, True]           \n",
      " 23        [16, 19, 22]  1    683635  ultralytics.nn.modules.head.Segment          [1, 32, 64, [64, 128, 256]]   \n",
      "YOLO11n-seg summary: 355 layers, 2,842,803 parameters, 2,842,787 gradients, 10.4 GFLOPs\n",
      "\n",
      "Transferred 510/561 items from pretrained weights\n",
      "\u001b[34m\u001b[1mTensorBoard: \u001b[0mStart with 'tensorboard --logdir runs/segment/train7', view at http://localhost:6006/\n",
      "Freezing layer 'model.23.dfl.conv.weight'\n"
     ]
    },
    {
     "name": "stderr",
     "output_type": "stream",
     "text": [
      "\u001b[34m\u001b[1mtrain: \u001b[0mScanning /Users/kirfi/Downloads/LiverProject/PVTFormer/datasets/yolo_data\u001b[0m"
     ]
    },
    {
     "name": "stdout",
     "output_type": "stream",
     "text": [
      "\u001b[34m\u001b[1malbumentations: \u001b[0mBlur(p=0.01, blur_limit=(3, 7)), MedianBlur(p=0.01, blur_limit=(3, 7)), ToGray(p=0.01), CLAHE(p=0.01, clip_limit=(1, 4.0), tile_grid_size=(8, 8))\n"
     ]
    },
    {
     "name": "stderr",
     "output_type": "stream",
     "text": [
      "\n",
      "\u001b[34m\u001b[1mval: \u001b[0mScanning /Users/kirfi/Downloads/LiverProject/PVTFormer/datasets/yolo_datase\u001b[0m"
     ]
    },
    {
     "name": "stdout",
     "output_type": "stream",
     "text": [
      "Plotting labels to runs/segment/train7/labels.jpg... \n"
     ]
    },
    {
     "name": "stderr",
     "output_type": "stream",
     "text": [
      "\n"
     ]
    },
    {
     "name": "stdout",
     "output_type": "stream",
     "text": [
      "\u001b[34m\u001b[1moptimizer:\u001b[0m 'optimizer=auto' found, ignoring 'lr0=0.01' and 'momentum=0.937' and determining best 'optimizer', 'lr0' and 'momentum' automatically... \n",
      "\u001b[34m\u001b[1moptimizer:\u001b[0m AdamW(lr=0.002, momentum=0.9) with parameter groups 90 weight(decay=0.0), 101 weight(decay=0.0005), 100 bias(decay=0.0)\n",
      "\u001b[34m\u001b[1mTensorBoard: \u001b[0mmodel graph visualization added ✅\n",
      "Image sizes 640 train, 640 val\n",
      "Using 0 dataloader workers\n",
      "Logging results to \u001b[1mruns/segment/train7\u001b[0m\n",
      "Starting training for 100 epochs...\n",
      "\n",
      "      Epoch    GPU_mem   box_loss   seg_loss   cls_loss   dfl_loss  Instances       Size\n"
     ]
    },
    {
     "name": "stderr",
     "output_type": "stream",
     "text": [
      "      1/100      6.37G     0.9614      1.825      2.109      1.181         11   \n",
      "                 Class     Images  Instances      Box(P          R      mAP50  m"
     ]
    },
    {
     "name": "stdout",
     "output_type": "stream",
     "text": [
      "WARNING ⚠️ NMS time limit 3.600s exceeded\n"
     ]
    },
    {
     "name": "stderr",
     "output_type": "stream",
     "text": [
      "\r",
      "                 Class     Images  Instances      Box(P          R      mAP50  m"
     ]
    },
    {
     "name": "stdout",
     "output_type": "stream",
     "text": [
      "WARNING ⚠️ NMS time limit 3.600s exceeded\n"
     ]
    },
    {
     "name": "stderr",
     "output_type": "stream",
     "text": [
      "\r",
      "                 Class     Images  Instances      Box(P          R      mAP50  m"
     ]
    },
    {
     "name": "stdout",
     "output_type": "stream",
     "text": [
      "WARNING ⚠️ NMS time limit 3.600s exceeded\n"
     ]
    },
    {
     "name": "stderr",
     "output_type": "stream",
     "text": [
      "\r",
      "                 Class     Images  Instances      Box(P          R      mAP50  m"
     ]
    },
    {
     "name": "stdout",
     "output_type": "stream",
     "text": [
      "WARNING ⚠️ NMS time limit 3.600s exceeded\n"
     ]
    },
    {
     "name": "stderr",
     "output_type": "stream",
     "text": [
      "\r",
      "                 Class     Images  Instances      Box(P          R      mAP50  m"
     ]
    },
    {
     "name": "stdout",
     "output_type": "stream",
     "text": [
      "WARNING ⚠️ NMS time limit 3.600s exceeded\n"
     ]
    },
    {
     "name": "stderr",
     "output_type": "stream",
     "text": [
      "\r",
      "                 Class     Images  Instances      Box(P          R      mAP50  m"
     ]
    },
    {
     "name": "stdout",
     "output_type": "stream",
     "text": [
      "WARNING ⚠️ NMS time limit 3.600s exceeded\n"
     ]
    },
    {
     "name": "stderr",
     "output_type": "stream",
     "text": [
      "\r",
      "                 Class     Images  Instances      Box(P          R      mAP50  m"
     ]
    },
    {
     "name": "stdout",
     "output_type": "stream",
     "text": [
      "WARNING ⚠️ NMS time limit 3.600s exceeded\n"
     ]
    },
    {
     "name": "stderr",
     "output_type": "stream",
     "text": [
      "\r",
      "                 Class     Images  Instances      Box(P          R      mAP50  m"
     ]
    },
    {
     "name": "stdout",
     "output_type": "stream",
     "text": [
      "WARNING ⚠️ NMS time limit 3.600s exceeded\n"
     ]
    },
    {
     "name": "stderr",
     "output_type": "stream",
     "text": [
      "\r",
      "                 Class     Images  Instances      Box(P          R      mAP50  m"
     ]
    },
    {
     "name": "stdout",
     "output_type": "stream",
     "text": [
      "WARNING ⚠️ NMS time limit 3.600s exceeded\n"
     ]
    },
    {
     "name": "stderr",
     "output_type": "stream",
     "text": [
      "\r",
      "                 Class     Images  Instances      Box(P          R      mAP50  m"
     ]
    },
    {
     "name": "stdout",
     "output_type": "stream",
     "text": [
      "WARNING ⚠️ NMS time limit 3.600s exceeded\n"
     ]
    },
    {
     "name": "stderr",
     "output_type": "stream",
     "text": [
      "\r",
      "                 Class     Images  Instances      Box(P          R      mAP50  m"
     ]
    },
    {
     "name": "stdout",
     "output_type": "stream",
     "text": [
      "WARNING ⚠️ NMS time limit 3.600s exceeded\n"
     ]
    },
    {
     "name": "stderr",
     "output_type": "stream",
     "text": [
      "                 Class     Images  Instances      Box(P          R      mAP50  m"
     ]
    },
    {
     "name": "stdout",
     "output_type": "stream",
     "text": [
      "WARNING ⚠️ NMS time limit 3.600s exceeded\n"
     ]
    },
    {
     "name": "stderr",
     "output_type": "stream",
     "text": [
      "                 Class     Images  Instances      Box(P          R      mAP50  m"
     ]
    },
    {
     "name": "stdout",
     "output_type": "stream",
     "text": [
      "WARNING ⚠️ NMS time limit 3.600s exceeded\n"
     ]
    },
    {
     "name": "stderr",
     "output_type": "stream",
     "text": [
      "\r",
      "                 Class     Images  Instances      Box(P          R      mAP50  m"
     ]
    },
    {
     "name": "stdout",
     "output_type": "stream",
     "text": [
      "WARNING ⚠️ NMS time limit 3.600s exceeded\n"
     ]
    },
    {
     "name": "stderr",
     "output_type": "stream",
     "text": [
      "\r",
      "                 Class     Images  Instances      Box(P          R      mAP50  m"
     ]
    },
    {
     "name": "stdout",
     "output_type": "stream",
     "text": [
      "WARNING ⚠️ NMS time limit 3.600s exceeded\n"
     ]
    },
    {
     "name": "stderr",
     "output_type": "stream",
     "text": [
      "\r",
      "                 Class     Images  Instances      Box(P          R      mAP50  m"
     ]
    },
    {
     "name": "stdout",
     "output_type": "stream",
     "text": [
      "WARNING ⚠️ NMS time limit 3.600s exceeded\n"
     ]
    },
    {
     "name": "stderr",
     "output_type": "stream",
     "text": [
      "                 Class     Images  Instances      Box(P          R      mAP50  m\n",
      "\n",
      "KeyboardInterrupt\n",
      "\n"
     ]
    }
   ],
   "source": [
    "from ultralytics import YOLO\n",
    "\n",
    "# Load a model\n",
    "model = YOLO(\"yolo11n-seg.pt\")\n",
    "\n",
    "# Train the model\n",
    "train_results = model.train(\n",
    "    data=\"liver.yaml\",  # path to dataset YAML\n",
    "    epochs=100,  # number of training epochs\n",
    "    imgsz=640,  # training image size\n",
    "    device=\"mps\",  # device to run on, i.e. device=0 or device=0,1,2,3 or device=cpu\n",
    ")\n",
    "\n",
    "# Evaluate model performance on the validation set\n",
    "metrics = model.val()\n",
    "\n",
    "# Perform object detection on an image"
   ]
  }
 ],
 "metadata": {
  "kernelspec": {
   "display_name": "Python 3 (ipykernel)",
   "language": "python",
   "name": "python3"
  },
  "language_info": {
   "codemirror_mode": {
    "name": "ipython",
    "version": 3
   },
   "file_extension": ".py",
   "mimetype": "text/x-python",
   "name": "python",
   "nbconvert_exporter": "python",
   "pygments_lexer": "ipython3",
   "version": "3.11.5"
  }
 },
 "nbformat": 4,
 "nbformat_minor": 5
}
